{
  "cells": [
    {
      "cell_type": "markdown",
      "source": [
        "# **Loading the data:**"
      ],
      "metadata": {
        "id": "-LMmfG8AeCuT"
      }
    },
    {
      "cell_type": "code",
      "execution_count": 2,
      "metadata": {
        "id": "fDcAp7-1JsFh"
      },
      "outputs": [],
      "source": [
        "import pandas as pd\n",
        "import numpy as np\n",
        "from matplotlib import pyplot as plt"
      ]
    },
    {
      "cell_type": "code",
      "execution_count": null,
      "metadata": {
        "id": "BKDYf9NIJ_F0"
      },
      "outputs": [],
      "source": [
        "df = pd.read_csv('/content/drive/MyDrive/Project 2/SBAnational.csv')"
      ]
    },
    {
      "cell_type": "markdown",
      "source": [
        "# **Cleaning:**"
      ],
      "metadata": {
        "id": "3uQRsIu6eA7q"
      }
    },
    {
      "cell_type": "code",
      "execution_count": null,
      "metadata": {
        "id": "Pxe9aDsGMtmC"
      },
      "outputs": [],
      "source": [
        "df.head()"
      ]
    },
    {
      "cell_type": "code",
      "execution_count": null,
      "metadata": {
        "id": "ltGoA-APLdcb"
      },
      "outputs": [],
      "source": [
        "df = df.rename(columns={'LoanNr_ChkDgt':'ID'})"
      ]
    },
    {
      "cell_type": "code",
      "source": [
        "df = df.drop(['BalanceGross'], axis=1)"
      ],
      "metadata": {
        "id": "dtk7m9SbdQ-8"
      },
      "execution_count": null,
      "outputs": []
    },
    {
      "cell_type": "code",
      "source": [
        "df['DisbursementGross'] = df['DisbursementGross'].str.replace('$','')"
      ],
      "metadata": {
        "id": "L0k782znkaCc"
      },
      "execution_count": null,
      "outputs": []
    },
    {
      "cell_type": "code",
      "source": [
        "df['DisbursementGross'] = df['DisbursementGross'].str.replace(',','')"
      ],
      "metadata": {
        "id": "tbV2uVoWn_rz"
      },
      "execution_count": null,
      "outputs": []
    },
    {
      "cell_type": "code",
      "source": [
        "df['DisbursementGross'] = df['DisbursementGross'].str.strip()"
      ],
      "metadata": {
        "id": "Y0SIQkBloEi2"
      },
      "execution_count": null,
      "outputs": []
    },
    {
      "cell_type": "code",
      "source": [
        "df['DisbursementGross'] = pd.to_numeric(df['DisbursementGross'])"
      ],
      "metadata": {
        "id": "ySVOTkHSog35"
      },
      "execution_count": null,
      "outputs": []
    },
    {
      "cell_type": "code",
      "source": [
        "df['GrAppv'] = df['GrAppv'].str.replace('$','')"
      ],
      "metadata": {
        "id": "9XC4O5zZkvE1"
      },
      "execution_count": null,
      "outputs": []
    },
    {
      "cell_type": "code",
      "source": [
        "df['GrAppv'] = df['GrAppv'].str.replace(',','')"
      ],
      "metadata": {
        "id": "xvvNK13Wn2lp"
      },
      "execution_count": null,
      "outputs": []
    },
    {
      "cell_type": "code",
      "source": [
        "df['GrAppv'] = df['GrAppv'].str.strip()"
      ],
      "metadata": {
        "id": "UjwZ-9lanbhC"
      },
      "execution_count": null,
      "outputs": []
    },
    {
      "cell_type": "code",
      "source": [
        "df['GrAppv'] = pd.to_numeric(df['GrAppv'])"
      ],
      "metadata": {
        "id": "ffZF8v3-m0ZZ"
      },
      "execution_count": null,
      "outputs": []
    },
    {
      "cell_type": "code",
      "source": [
        "df['SBA_Appv'] = df['SBA_Appv'].str.replace('$','')"
      ],
      "metadata": {
        "id": "4vup9Ul3k4eZ"
      },
      "execution_count": null,
      "outputs": []
    },
    {
      "cell_type": "code",
      "source": [
        "df['SBA_Appv'] = df['SBA_Appv'].str.replace(',','')"
      ],
      "metadata": {
        "id": "hsh0PgM3oOMw"
      },
      "execution_count": null,
      "outputs": []
    },
    {
      "cell_type": "code",
      "source": [
        "df['SBA_Appv'] = df['SBA_Appv'].str.strip()"
      ],
      "metadata": {
        "id": "SXkUyYdpoQOh"
      },
      "execution_count": null,
      "outputs": []
    },
    {
      "cell_type": "code",
      "source": [
        "df['SBA_Appv'] = pd.to_numeric(df['SBA_Appv'])"
      ],
      "metadata": {
        "id": "DNm-64Cyocm0"
      },
      "execution_count": null,
      "outputs": []
    },
    {
      "cell_type": "code",
      "source": [
        "df['MIS_Status'] = df['MIS_Status'].str.strip()"
      ],
      "metadata": {
        "id": "mpSGv-HqcHUs"
      },
      "execution_count": null,
      "outputs": []
    },
    {
      "cell_type": "code",
      "execution_count": null,
      "metadata": {
        "id": "moYhc61HM8wj"
      },
      "outputs": [],
      "source": [
        "df.isnull().sum() / len(df) * 100"
      ]
    },
    {
      "cell_type": "code",
      "source": [
        "df.dtypes"
      ],
      "metadata": {
        "id": "xzMnQZR1mhKL"
      },
      "execution_count": null,
      "outputs": []
    },
    {
      "cell_type": "code",
      "source": [
        "df.shape"
      ],
      "metadata": {
        "id": "j0ZGeNduhxU7"
      },
      "execution_count": null,
      "outputs": []
    },
    {
      "cell_type": "code",
      "execution_count": null,
      "metadata": {
        "id": "zC1KA6ugSzrr"
      },
      "outputs": [],
      "source": [
        "df.corr()"
      ]
    },
    {
      "cell_type": "code",
      "source": [
        "df.columns"
      ],
      "metadata": {
        "id": "n_8tO1qDbosa"
      },
      "execution_count": null,
      "outputs": []
    },
    {
      "cell_type": "markdown",
      "source": [
        "# **Urban vs Rural**"
      ],
      "metadata": {
        "id": "a9J2vbXPdsax"
      }
    },
    {
      "cell_type": "code",
      "source": [
        "# what is the average term in rural and urban areas\n",
        "# 1 = Urban\n",
        "# 2 = Rural\n",
        "# 0 = Undefined\n",
        "URterm = df.groupby('UrbanRural').agg({'Term': [np.mean]})\n",
        "URterm"
      ],
      "metadata": {
        "id": "yYeprrE0dvIB"
      },
      "execution_count": null,
      "outputs": []
    },
    {
      "cell_type": "markdown",
      "source": [
        "***Urban areas have a shorter loan term than Rural areas***"
      ],
      "metadata": {
        "id": "pm5egKkjejOp"
      }
    },
    {
      "cell_type": "code",
      "source": [
        "# SBA_appv is SBAs guaranteed loan approved amount\n",
        "# Grappv is Gross amount of loan approved by bank\n",
        "UrbanRuraldf = df.groupby('UrbanRural').agg({'GrAppv': [np.mean], 'SBA_Appv': [np.mean], 'DisbursementGross': [np.mean]})\n",
        "UrbanRuraldf\n"
      ],
      "metadata": {
        "id": "UX0iFAejdDxt"
      },
      "execution_count": null,
      "outputs": []
    },
    {
      "cell_type": "code",
      "source": [
        "UrbanRuraldf.reset_index()"
      ],
      "metadata": {
        "id": "xGoj49fkrsOj"
      },
      "execution_count": null,
      "outputs": []
    },
    {
      "cell_type": "code",
      "source": [
        "UrbanRuraldf.columns = ['Average Bank Loan', 'Average SBA Guaranteed Loan Amount', 'Disburstment Amount']"
      ],
      "metadata": {
        "id": "cjgOQdS0rxXo"
      },
      "execution_count": null,
      "outputs": []
    },
    {
      "cell_type": "code",
      "source": [
        "UrbanRuraldf = UrbanRuraldf.reset_index()"
      ],
      "metadata": {
        "id": "st3Sei_rsHfh"
      },
      "execution_count": null,
      "outputs": []
    },
    {
      "cell_type": "code",
      "source": [
        "UrbanRuraldf"
      ],
      "metadata": {
        "id": "dShA65oGsNsC"
      },
      "execution_count": null,
      "outputs": []
    },
    {
      "cell_type": "code",
      "source": [
        "UrbanRuraldf['Difference in Amount'] = UrbanRuraldf['Average Bank Loan'] - UrbanRuraldf['Average SBA Guaranteed Loan Amount']"
      ],
      "metadata": {
        "id": "j3m_DBKCsOIR"
      },
      "execution_count": null,
      "outputs": []
    },
    {
      "cell_type": "code",
      "source": [
        "UrbanRuraldf"
      ],
      "metadata": {
        "id": "1xwuCdGvsxxB"
      },
      "execution_count": null,
      "outputs": []
    },
    {
      "cell_type": "code",
      "source": [
        "Urbanloans = UrbanRuraldf[UrbanRuraldf['UrbanRural'] == 1]\n",
        "Urbanloans"
      ],
      "metadata": {
        "id": "i2I7CvuzSZJq"
      },
      "execution_count": null,
      "outputs": []
    },
    {
      "cell_type": "code",
      "source": [
        "Ruralloans = UrbanRuraldf[UrbanRuraldf['UrbanRural'] == 2]"
      ],
      "metadata": {
        "id": "eC5grxEWS0KH"
      },
      "execution_count": null,
      "outputs": []
    },
    {
      "cell_type": "code",
      "source": [
        "plt.figure(figsize=(12,8))\n",
        "plt.bar(Urbanloans['UrbanRural'], Urbanloans['Average Bank Loan'], color ='green',width = 0.4, label='Avg. Bank Loan')\n",
        "plt.bar(Urbanloans['UrbanRural'], Urbanloans['Average SBA Guaranteed Loan Amount'], color ='red',width = 0.4, label='Avg. SBA Loan')\n",
        "plt.bar(Ruralloans['UrbanRural'], Ruralloans['Average Bank Loan'], color ='green',width = 0.4)\n",
        "plt.bar(Ruralloans['UrbanRural'], Ruralloans['Average SBA Guaranteed Loan Amount'], color ='red', width = 0.4)\n",
        "plt.rc('font', size=20)\n",
        "plt.ylabel('Loan Amount')\n",
        "plt.rc('font', size=20)\n",
        "plt.title('Bank vs SBA Loans in Urban and Rural Areas')\n",
        "plt.xticks(UrbanRuraldf['UrbanRural'], labels=['','Urban','Rural'])\n",
        "plt.legend(loc='lower left')\n",
        "plt.show()"
      ],
      "metadata": {
        "id": "oagNAwyiRrl0"
      },
      "execution_count": null,
      "outputs": []
    },
    {
      "cell_type": "markdown",
      "source": [
        "# **Term:**"
      ],
      "metadata": {
        "id": "Rt6FOvbFjvQp"
      }
    },
    {
      "cell_type": "code",
      "source": [
        "df.MIS_Status.replace(['P I F', 'CHGOFF'], [0,1], inplace = True)"
      ],
      "metadata": {
        "id": "s-W7z8K3_IoR"
      },
      "execution_count": null,
      "outputs": []
    },
    {
      "cell_type": "code",
      "source": [
        "termdefault = df.groupby('Term').agg({'MIS_Status': ['sum', 'count'], 'DisbursementGross': [np.mean, 'sum']})\n"
      ],
      "metadata": {
        "id": "K2OVc0tDjy3t"
      },
      "execution_count": null,
      "outputs": []
    },
    {
      "cell_type": "code",
      "source": [
        "termdefault.reset_index()"
      ],
      "metadata": {
        "id": "WUh_Ua6PzFRa"
      },
      "execution_count": null,
      "outputs": []
    },
    {
      "cell_type": "code",
      "source": [
        "termdefault.columns = ['Defaulted' , 'Total', 'AVG Loan Amount', 'Total Loan Amount']"
      ],
      "metadata": {
        "id": "Qg8mOrwezRiZ"
      },
      "execution_count": null,
      "outputs": []
    },
    {
      "cell_type": "code",
      "source": [
        "termdefault = termdefault.reset_index()"
      ],
      "metadata": {
        "id": "6Jqzj_X_zaLA"
      },
      "execution_count": null,
      "outputs": []
    },
    {
      "cell_type": "code",
      "source": [
        "termdefault['percentage of defaults'] = termdefault['Defaulted'] / termdefault['Total'] *100"
      ],
      "metadata": {
        "id": "ctl0z-KL0o6z"
      },
      "execution_count": null,
      "outputs": []
    },
    {
      "cell_type": "code",
      "source": [
        "plt.figure(figsize=(12,8))\n",
        "plt.scatter(termdefault['Term'], termdefault['AVG Loan Amount'])\n",
        "plt.title('Loan Amount by Term')\n",
        "plt.xlabel('Term')\n",
        "plt.ylabel('Loan Amount')"
      ],
      "metadata": {
        "id": "Rw5bJjyQZ4ng"
      },
      "execution_count": null,
      "outputs": []
    },
    {
      "cell_type": "code",
      "source": [
        "plt.figure(figsize=(12,8))\n",
        "plt.bar(termdefault['Term'], termdefault['percentage of defaults'], color='red')\n",
        "plt.title('Defaulted in Term')\n",
        "plt.xlabel('Term')\n",
        "plt.ylabel('Percentage of Defaults')"
      ],
      "metadata": {
        "id": "MpFXjJVj03Me"
      },
      "execution_count": null,
      "outputs": []
    },
    {
      "cell_type": "markdown",
      "source": [
        "# **Revolving line of credit (most of the values are missing)**"
      ],
      "metadata": {
        "id": "tw9s4cnBoc98"
      }
    },
    {
      "cell_type": "code",
      "source": [
        "df.columns"
      ],
      "metadata": {
        "id": "Uzkq7j-zpHWr"
      },
      "execution_count": null,
      "outputs": []
    },
    {
      "cell_type": "code",
      "source": [
        "df['RevLineCr'] = df['RevLineCr'].map(dict(Y=1, N=0))"
      ],
      "metadata": {
        "id": "T7kkXzFmp1wg"
      },
      "execution_count": null,
      "outputs": []
    },
    {
      "cell_type": "code",
      "source": [
        "RLC = df.groupby('UrbanRural').agg({'RevLineCr': [np.sum, 'count']})\n",
        "RLC"
      ],
      "metadata": {
        "id": "UwRU4oL1ocLH"
      },
      "execution_count": null,
      "outputs": []
    },
    {
      "cell_type": "code",
      "source": [
        "RLC.reset_index()"
      ],
      "metadata": {
        "id": "MlBoaqHAlyQU"
      },
      "execution_count": null,
      "outputs": []
    },
    {
      "cell_type": "code",
      "source": [
        "RLC.columns = ['Total RLC', \"# of people\"]"
      ],
      "metadata": {
        "id": "oae__RZUmBJS"
      },
      "execution_count": null,
      "outputs": []
    },
    {
      "cell_type": "code",
      "source": [
        "RLC = RLC.reset_index()"
      ],
      "metadata": {
        "id": "0jk6sHjcmMBY"
      },
      "execution_count": null,
      "outputs": []
    },
    {
      "cell_type": "code",
      "source": [
        "RLC['% of people w RLC'] = RLC['Total RLC'] / RLC['# of people'] * 100"
      ],
      "metadata": {
        "id": "-01btG3vmPGx"
      },
      "execution_count": null,
      "outputs": []
    },
    {
      "cell_type": "markdown",
      "source": [
        "# **Low Doc**"
      ],
      "metadata": {
        "id": "HJyC0ABzrI--"
      }
    },
    {
      "cell_type": "code",
      "source": [
        "df['LowDoc'] = df['LowDoc'].map(dict(Y=1, N=0))"
      ],
      "metadata": {
        "id": "hfbyR7WLrH4u"
      },
      "execution_count": null,
      "outputs": []
    },
    {
      "cell_type": "code",
      "source": [
        "LowDocUR = df.groupby('UrbanRural').agg({'LowDoc': [np.mean, np.sum, 'count'], 'MIS_Status': ['sum']})\n",
        "LowDocUR"
      ],
      "metadata": {
        "id": "hkVXOGhZrVIo"
      },
      "execution_count": null,
      "outputs": []
    },
    {
      "cell_type": "code",
      "source": [
        "LowDocUR.reset_index()\n",
        "LowDocUR"
      ],
      "metadata": {
        "id": "xTpk5pj_sv8U"
      },
      "execution_count": null,
      "outputs": []
    },
    {
      "cell_type": "code",
      "source": [
        "LowDocUR.columns = ['Average','Approved', 'Total', 'Defaulted']"
      ],
      "metadata": {
        "id": "lDfywhIOttBv"
      },
      "execution_count": null,
      "outputs": []
    },
    {
      "cell_type": "code",
      "source": [
        "LowDocUR = LowDocUR.reset_index()\n",
        "LowDocUR"
      ],
      "metadata": {
        "id": "J4SfMZclt9LA"
      },
      "execution_count": null,
      "outputs": []
    },
    {
      "cell_type": "code",
      "source": [
        "LowDocUR['% Approved'] = LowDocUR['Approved'] / LowDocUR['Total'] * 100"
      ],
      "metadata": {
        "id": "FmiwtSdUteM9"
      },
      "execution_count": null,
      "outputs": []
    },
    {
      "cell_type": "code",
      "source": [
        "LowDocUR"
      ],
      "metadata": {
        "id": "9ars407AuQsJ"
      },
      "execution_count": null,
      "outputs": []
    },
    {
      "cell_type": "code",
      "source": [
        "lowdoc = df.groupby('LowDoc').agg({'MIS_Status': ['count', 'sum']})"
      ],
      "metadata": {
        "id": "fMLaxOJtrLef"
      },
      "execution_count": null,
      "outputs": []
    },
    {
      "cell_type": "code",
      "source": [
        "lowdoc.reset_index()"
      ],
      "metadata": {
        "id": "-57Oew0o4RZy"
      },
      "execution_count": null,
      "outputs": []
    },
    {
      "cell_type": "code",
      "source": [
        "lowdoc.columns = ['Total', 'Defaulted']"
      ],
      "metadata": {
        "id": "vKE-ZM1Z4VsR"
      },
      "execution_count": null,
      "outputs": []
    },
    {
      "cell_type": "code",
      "source": [
        "lowdoc = lowdoc.reset_index()"
      ],
      "metadata": {
        "id": "YpWrAkqo4cVO"
      },
      "execution_count": null,
      "outputs": []
    },
    {
      "cell_type": "code",
      "source": [
        "lowdoc['Percentage of Defaults'] = lowdoc['Defaulted'] / lowdoc['Total'] *100"
      ],
      "metadata": {
        "id": "nR_fCzwJ4gg6"
      },
      "execution_count": null,
      "outputs": []
    },
    {
      "cell_type": "code",
      "source": [
        "lowdoc"
      ],
      "metadata": {
        "id": "0EzKEXYz4rFZ"
      },
      "execution_count": null,
      "outputs": []
    },
    {
      "cell_type": "code",
      "source": [
        "plt.figure(figsize=(12,8))\n",
        "plt.bar(lowdoc['LowDoc'], lowdoc['Percentage of Defaults'], color ='red',width = 0.4)\n",
        "plt.rc('font', size=20)\n",
        "plt.ylabel('Percentage of Defaults')\n",
        "plt.rc('font', size=20)\n",
        "plt.title('Defaults Within The LowDoc Program')\n",
        "plt.xticks(lowdoc['LowDoc'], labels=['No','Yes'])\n",
        "plt.show()"
      ],
      "metadata": {
        "id": "ilYY31ZD8Zh5"
      },
      "execution_count": null,
      "outputs": []
    },
    {
      "cell_type": "markdown",
      "source": [
        "# **MIS Status**"
      ],
      "metadata": {
        "id": "dCr-DTLuxfr7"
      }
    },
    {
      "cell_type": "code",
      "source": [
        "df.MIS_Status.replace(['P I F', 'CHGOFF'], [0,1], inplace = True)"
      ],
      "metadata": {
        "id": "RBpwVr5anMfu"
      },
      "execution_count": null,
      "outputs": []
    },
    {
      "cell_type": "code",
      "source": [
        "statusUR = df.groupby('UrbanRural').agg({'MIS_Status': [np.sum, 'count']})\n",
        "statusUR"
      ],
      "metadata": {
        "id": "5UdPtBteum1Q"
      },
      "execution_count": null,
      "outputs": []
    },
    {
      "cell_type": "code",
      "source": [
        "statusUR.reset_index()"
      ],
      "metadata": {
        "id": "U2VBh6DwdtgQ"
      },
      "execution_count": null,
      "outputs": []
    },
    {
      "cell_type": "code",
      "source": [
        "statusUR.columns = ['Defaulted', 'Total Loans']"
      ],
      "metadata": {
        "id": "t0wLeQ3eqfPx"
      },
      "execution_count": null,
      "outputs": []
    },
    {
      "cell_type": "code",
      "source": [
        "statusUR = statusUR.reset_index()"
      ],
      "metadata": {
        "id": "K6Tvb_yfqmp7"
      },
      "execution_count": null,
      "outputs": []
    },
    {
      "cell_type": "code",
      "source": [
        "statusUR"
      ],
      "metadata": {
        "id": "7fBoXQodqtJZ"
      },
      "execution_count": null,
      "outputs": []
    },
    {
      "cell_type": "code",
      "source": [
        "statusUR['% of Defaulted'] = statusUR['Defaulted'] / statusUR['Total Loans'] * 100"
      ],
      "metadata": {
        "id": "BOV_4SnoqwFm"
      },
      "execution_count": null,
      "outputs": []
    },
    {
      "cell_type": "code",
      "source": [
        "def make_scatterplot(df, x, y, figsize=(12, 8)):\n",
        "    df.plot(x=x, \n",
        "            y=y, \n",
        "            kind='bar', \n",
        "            figsize=figsize,\n",
        "            title=f'{x} vs {y}')"
      ],
      "metadata": {
        "id": "AibYKmjNc_ve"
      },
      "execution_count": null,
      "outputs": []
    },
    {
      "cell_type": "code",
      "source": [
        "make_scatterplot(statusUR, x='UrbanRural', y='% of Defaulted')"
      ],
      "metadata": {
        "id": "9KNqtHBOdCBe"
      },
      "execution_count": null,
      "outputs": []
    },
    {
      "cell_type": "code",
      "source": [],
      "metadata": {
        "id": "L4lxiqBBfmKp"
      },
      "execution_count": null,
      "outputs": []
    },
    {
      "cell_type": "code",
      "source": [
        "statusUR.columns"
      ],
      "metadata": {
        "id": "oeb2Uwf2yr8h"
      },
      "execution_count": null,
      "outputs": []
    },
    {
      "cell_type": "code",
      "source": [
        "statusUR"
      ],
      "metadata": {
        "id": "kKwk_eKb4cgq"
      },
      "execution_count": null,
      "outputs": []
    },
    {
      "cell_type": "code",
      "source": [
        "statestatus = df.groupby('State').agg({'MIS_Status': ['sum', 'count'], 'GrAppv': [np.mean], 'SBA_Appv': [np.mean]})"
      ],
      "metadata": {
        "id": "bGnJ4654OUAD"
      },
      "execution_count": null,
      "outputs": []
    },
    {
      "cell_type": "code",
      "source": [
        "statestatus.reset_index()"
      ],
      "metadata": {
        "id": "CBh9TZIEOsxv"
      },
      "execution_count": null,
      "outputs": []
    },
    {
      "cell_type": "code",
      "source": [
        "statestatus.columns = ['Defaulted', 'Total', 'Bank Loan', 'SBA Loan']"
      ],
      "metadata": {
        "id": "5Q0V065qOz9S"
      },
      "execution_count": null,
      "outputs": []
    },
    {
      "cell_type": "code",
      "source": [
        "statestatus = statestatus.reset_index()"
      ],
      "metadata": {
        "id": "iVHB52lwPBVE"
      },
      "execution_count": null,
      "outputs": []
    },
    {
      "cell_type": "code",
      "source": [
        "statestatus['Percentage of Defaulted'] = statestatus['Defaulted'] / statestatus['Total'] * 100"
      ],
      "metadata": {
        "id": "uKKV5m9NPOkF"
      },
      "execution_count": null,
      "outputs": []
    },
    {
      "cell_type": "code",
      "source": [
        "statestatus.columns "
      ],
      "metadata": {
        "id": "1Nu9NI_ufBDx"
      },
      "execution_count": null,
      "outputs": []
    },
    {
      "cell_type": "code",
      "source": [
        "plt.figure(figsize=(15,10))\n",
        "plt.bar(statestatus['State'], statestatus['Total'], color = ['r','r','r','r','b','r','r','r','r','r','r','r','r','r','r','r','r','r','r','r','r','r','r','r','r','r','r','r','r','r','r','r','r','r','b','r','r','r','r','r','r','r','r','b','r','r','r','r','r','r'])\n",
        "\n",
        "plt.rc('font', size=20)\n",
        "plt.xlabel('State')\n",
        "plt.ylabel('Total vs Default')\n",
        "plt.rc('font', size=20)\n",
        "plt.title('Count of Loans in Each State')\n",
        "plt.xticks(rotation = 90)\n",
        "plt.legend(loc='top right')\n",
        "plt.savefig('Stateloancounts.png')\n",
        "plt.show()"
      ],
      "metadata": {
        "id": "XCHYKq7bQUV2"
      },
      "execution_count": null,
      "outputs": []
    },
    {
      "cell_type": "code",
      "source": [
        "plt.figure(figsize=(15,10))\n",
        "plt.bar(statestatus['State'], statestatus['Total'], color = ['r','r','r','r','b','r','r','r','r','r','r','r','r','r','r','r','r','r','r','r','r','r','r','r','r','r','r','r','r','r','r','r','r','r','b','r','r','r','r','r','r','r','r','b','r','r','r','r','r','r'])\n",
        "\n",
        "plt.rc('font', size=20)\n",
        "plt.xlabel('State')\n",
        "plt.ylabel('Count')\n",
        "plt.rc('font', size=20)\n",
        "plt.title('Count of Loans in Each State')\n",
        "plt.xticks(rotation = 90)\n",
        "plt.savefig('Stateloancountss.png')\n",
        "plt.show()"
      ],
      "metadata": {
        "id": "I7fDoIbCxyYy"
      },
      "execution_count": null,
      "outputs": []
    },
    {
      "cell_type": "code",
      "source": [
        "df_sorted_desc= statestatus.sort_values('Percentage of Defaulted',ascending=False)\n"
      ],
      "metadata": {
        "id": "x-7ObAW-mDft"
      },
      "execution_count": null,
      "outputs": []
    },
    {
      "cell_type": "code",
      "source": [
        "plt.figure(figsize=(15,10))\n",
        "plt.bar(statestatus['State'], statestatus['Percentage of Defaulted'],data=df_sorted_desc, color=['r','r','r','r','r','r','r','b','r','b','r','r','r','r','r','r','r','r','r','r','r','r','r','r','r','r','r','r','r','r','r','r','r','r','r','r','r','r','r','r','r','r','r','r','r','r','r','r','r','r'])\n",
        "plt.rc('font', size=20)\n",
        "plt.xlabel('State')\n",
        "plt.ylabel('Percentage of Defaults')\n",
        "plt.rc('font', size=20)\n",
        "plt.title('Defaults in Each State')\n",
        "plt.xticks(rotation = 90)\n",
        "plt.savefig('newStatedefaults.png')\n",
        "plt.show()"
      ],
      "metadata": {
        "id": "QrXEuUUMvWKk"
      },
      "execution_count": null,
      "outputs": []
    },
    {
      "cell_type": "markdown",
      "source": [
        "# **NACIS**\n",
        "\n",
        "\n"
      ],
      "metadata": {
        "id": "2I_3IB8yfiKV"
      }
    },
    {
      "cell_type": "code",
      "source": [
        "sectordf = pd.read_csv('/content/drive/MyDrive/NAICS Sector - Sheet1 - NAICS Sector - Sheet1 (1).csv')"
      ],
      "metadata": {
        "id": "b4KUinF4n-Hr"
      },
      "execution_count": null,
      "outputs": []
    },
    {
      "cell_type": "code",
      "source": [
        "df['Sectornum'] = df['NAICS'].astype(str).str[:2].astype(int)"
      ],
      "metadata": {
        "id": "rVPFu3K8rEIp"
      },
      "execution_count": null,
      "outputs": []
    },
    {
      "cell_type": "code",
      "source": [
        "sectordf.head()"
      ],
      "metadata": {
        "id": "Yim04aapsSeT"
      },
      "execution_count": null,
      "outputs": []
    },
    {
      "cell_type": "code",
      "source": [
        "df.head()"
      ],
      "metadata": {
        "id": "n2pJTsEpsYtb"
      },
      "execution_count": null,
      "outputs": []
    },
    {
      "cell_type": "code",
      "source": [
        "NAICSsector = pd.merge(sectordf, df, left_on='Sector', right_on='Sectornum', how='right')"
      ],
      "metadata": {
        "id": "JTp0FblXp3_o"
      },
      "execution_count": null,
      "outputs": []
    },
    {
      "cell_type": "code",
      "source": [
        "NAICSsector.head()"
      ],
      "metadata": {
        "id": "wDmnqxM9tG7H"
      },
      "execution_count": null,
      "outputs": []
    },
    {
      "cell_type": "code",
      "source": [
        "len(df)"
      ],
      "metadata": {
        "id": "-tkU5i-4tQD3"
      },
      "execution_count": null,
      "outputs": []
    },
    {
      "cell_type": "code",
      "source": [
        "len(NAICSsector)"
      ],
      "metadata": {
        "id": "4kpQyQZ_tR-k"
      },
      "execution_count": null,
      "outputs": []
    },
    {
      "cell_type": "code",
      "source": [
        "NAICSsector.to_csv('data_with_sectors.csv', index=False)"
      ],
      "metadata": {
        "id": "C12Y5rXqtWOO"
      },
      "execution_count": null,
      "outputs": []
    },
    {
      "cell_type": "code",
      "source": [
        "NAICSDESSBA = NAICSsector.groupby(['Description', 'UrbanRural']).agg({'SBA_Appv': [np.mean, 'count', 'min', 'max'], 'MIS_Status': ['sum']})"
      ],
      "metadata": {
        "id": "rgkvx7U-ga6O"
      },
      "execution_count": null,
      "outputs": []
    },
    {
      "cell_type": "code",
      "source": [
        "NAICSDESSBA.reset_index()"
      ],
      "metadata": {
        "id": "WLBLzeEKil3w"
      },
      "execution_count": null,
      "outputs": []
    },
    {
      "cell_type": "code",
      "source": [
        "NAICSDESSBA.columns= ['Average', 'Count of Businesses', 'Minimum Loan', 'Maximum Loan', 'Amount Defaulted']"
      ],
      "metadata": {
        "id": "m4LLog_0jdps"
      },
      "execution_count": null,
      "outputs": []
    },
    {
      "cell_type": "code",
      "source": [
        "NAICSDESSBA = NAICSDESSBA.reset_index()"
      ],
      "metadata": {
        "id": "8Jmcu6DFj2YZ"
      },
      "execution_count": null,
      "outputs": []
    },
    {
      "cell_type": "code",
      "source": [
        "NAICSDESSBA['Percentage of Defaulted'] = NAICSDESSBA['Amount Defaulted'] / NAICSDESSBA['Count of Businesses'] * 100"
      ],
      "metadata": {
        "id": "92mEUHkikB0z"
      },
      "execution_count": null,
      "outputs": []
    },
    {
      "cell_type": "code",
      "source": [
        "SectorUrban = NAICSDESSBA[NAICSDESSBA['UrbanRural'] == 1]"
      ],
      "metadata": {
        "id": "xMAoPXKnFZWS"
      },
      "execution_count": null,
      "outputs": []
    },
    {
      "cell_type": "code",
      "source": [
        "SectorRural = NAICSDESSBA[NAICSDESSBA['UrbanRural'] == 2]"
      ],
      "metadata": {
        "id": "8bgc6tgjFkNE"
      },
      "execution_count": null,
      "outputs": []
    },
    {
      "cell_type": "code",
      "source": [
        "plt.figure(figsize=(12,8))\n",
        "plt.barh(SectorUrban['Description'], SectorUrban['Percentage of Defaulted'], label='Urban')\n",
        "plt.barh(SectorRural['Description'], SectorRural['Percentage of Defaulted'], label='Rural')\n",
        "plt.rc('font', size=20)\n",
        "plt.xlabel('Percentage That Have Defaulted')\n",
        "plt.rc('font', size=20)\n",
        "plt.legend(loc='top right')\n",
        "plt.title('Urban vs Rural Businesses That Have Defaulted')\n",
        "plt.show()"
      ],
      "metadata": {
        "id": "JLPhp2G1FtBx"
      },
      "execution_count": null,
      "outputs": []
    },
    {
      "cell_type": "code",
      "source": [],
      "metadata": {
        "id": "MINu5F2oq2af"
      },
      "execution_count": null,
      "outputs": []
    }
  ],
  "metadata": {
    "colab": {
      "provenance": [],
      "collapsed_sections": [
        "3uQRsIu6eA7q",
        "6J7R8bwsoZwi",
        "HJyC0ABzrI--",
        "Wx3H3DSmduXj"
      ]
    },
    "kernelspec": {
      "display_name": "Python 3",
      "name": "python3"
    },
    "language_info": {
      "name": "python"
    }
  },
  "nbformat": 4,
  "nbformat_minor": 0
}